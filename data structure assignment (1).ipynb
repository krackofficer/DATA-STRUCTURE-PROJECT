{
 "cells": [
  {
   "cell_type": "markdown",
   "id": "469f765b-060c-422a-9e4e-2ec0fbcc5834",
   "metadata": {},
   "source": [
    "# Data Structure Assignment"
   ]
  },
  {
   "cell_type": "markdown",
   "id": "2299ba1b-3b86-4a89-9d73-b620472dd50b",
   "metadata": {},
   "source": [
    "# 1) Discuss string slicing and provide examples?"
   ]
  },
  {
   "cell_type": "markdown",
   "id": "6d2b2a6c-0d01-49dc-9abb-d5794b894488",
   "metadata": {},
   "source": [
    "#String slicing allows you to extract parts of a string using a specified range \n",
    "#of indices. It’s like wielding a mystical blade to carve out precisely what you \n",
    "#need from a larger tapestry of characters."
   ]
  },
  {
   "cell_type": "markdown",
   "id": "85d1c6e2-6670-4503-a94b-0fcc185b1460",
   "metadata": {},
   "source": [
    "#Examples of String Slicing"
   ]
  },
  {
   "cell_type": "markdown",
   "id": "73ca4688-56c3-4483-9c95-c547a7e907ad",
   "metadata": {},
   "source": [
    "#1)Basic Slicing:\n",
    "\n",
    "#You can slice a string using the syntax: string[start:stop:step]"
   ]
  },
  {
   "cell_type": "code",
   "execution_count": 1,
   "id": "718ebefd-bb99-4612-a920-4e733c5fadc4",
   "metadata": {},
   "outputs": [
    {
     "name": "stdout",
     "output_type": "stream",
     "text": [
      "Hello\n",
      "World\n",
      "Hello, World!\n"
     ]
    }
   ],
   "source": [
    "text = \"Hello, World!\"\n",
    "\n",
    "# Extracting \"Hello\"\n",
    "print(text[0:5])  # Output: Hello\n",
    "\n",
    "# Extracting \"World\"\n",
    "print(text[7:12])  # Output: World\n",
    "\n",
    "# Extracting the entire string\n",
    "print(text[:])  # Output: Hello, World!\n"
   ]
  },
  {
   "cell_type": "code",
   "execution_count": 2,
   "id": "6cc2ff0e-1bf9-46fd-a411-666bd41b2fde",
   "metadata": {},
   "outputs": [
    {
     "data": {
      "text/plain": [
       "'i am'"
      ]
     },
     "execution_count": 2,
     "metadata": {},
     "output_type": "execute_result"
    }
   ],
   "source": [
    "string1 = \"i am a good student\"\n",
    "string1[0:4]   # 4 is exclusive [a,b] >> it will give the result till b-1 index"
   ]
  },
  {
   "cell_type": "markdown",
   "id": "2c3d86a4-7ccd-429d-8530-2574e9089ae5",
   "metadata": {},
   "source": [
    "#2)Omitting Indices:\n",
    "\n",
    "#You can omit the first or last index for convenience"
   ]
  },
  {
   "cell_type": "code",
   "execution_count": 3,
   "id": "89ab89dd-c250-4ff0-acac-065f68a84c47",
   "metadata": {},
   "outputs": [
    {
     "name": "stdout",
     "output_type": "stream",
     "text": [
      "bac\n",
      "bacon\n",
      "my\n"
     ]
    }
   ],
   "source": [
    "text = \"mybacon\"\n",
    "\n",
    "# Extracting \"bac\"\n",
    "print(text[2:5])  # Output: bac\n",
    "\n",
    "# Extracting \"bacon\"\n",
    "print(text[2:7])  # Output: bacon\n",
    "\n",
    "# Extracting \"my\"\n",
    "print(text[0:2])  # Output: my\n"
   ]
  },
  {
   "cell_type": "code",
   "execution_count": 6,
   "id": "9aceb1dd-2159-4adc-b7e2-fbe0ea3f6e74",
   "metadata": {},
   "outputs": [
    {
     "name": "stdout",
     "output_type": "stream",
     "text": [
      "ackofficer\n"
     ]
    }
   ],
   "source": [
    "string2 = \"krackofficer\"\n",
    "print(string2[2:12])"
   ]
  },
  {
   "cell_type": "markdown",
   "id": "a7611e2b-ed55-44a2-b95b-7e91a6718ca7",
   "metadata": {},
   "source": [
    "#3)Negative Indices (The Reverse Spell):\n",
    "\n",
    "#Negative indices allow you to slice from the end of the string:"
   ]
  },
  {
   "cell_type": "code",
   "execution_count": 7,
   "id": "d3374e75-fe02-425e-ac61-b3860b99195a",
   "metadata": {},
   "outputs": [
    {
     "name": "stdout",
     "output_type": "stream",
     "text": [
      "GEE\n",
      "EK\n"
     ]
    }
   ],
   "source": [
    "text = \"GEEKSFORGEEKS\"\n",
    "\n",
    "# Extracting \"GEE\"\n",
    "print(text[:3])  # Output: GEE\n",
    "\n",
    "# Extracting \"EK\" (skipping every second character)\n",
    "print(text[1:5:2])  # Output: EK\n"
   ]
  },
  {
   "cell_type": "code",
   "execution_count": 8,
   "id": "f14a567b-7ad2-4bd6-9add-3545f002ba65",
   "metadata": {},
   "outputs": [
    {
     "data": {
      "text/plain": [
       "'mahar'"
      ]
     },
     "execution_count": 8,
     "metadata": {},
     "output_type": "execute_result"
    }
   ],
   "source": [
    "string3 = \"maharaja\"\n",
    "string3[:-3]  #all character except the last three character"
   ]
  },
  {
   "cell_type": "code",
   "execution_count": 9,
   "id": "f68bcb0d-815b-436b-9764-eac6bce09525",
   "metadata": {},
   "outputs": [
    {
     "data": {
      "text/plain": [
       "'hello'"
      ]
     },
     "execution_count": 9,
     "metadata": {},
     "output_type": "execute_result"
    }
   ],
   "source": [
    "string3 = \"hello duniya\"\n",
    "string3[0:5:1] # by default step is 1"
   ]
  },
  {
   "cell_type": "code",
   "execution_count": 10,
   "id": "2afd1241-a4bd-4a6c-a440-9548f91ef080",
   "metadata": {},
   "outputs": [
    {
     "data": {
      "text/plain": [
       "'hello duniya'"
      ]
     },
     "execution_count": 10,
     "metadata": {},
     "output_type": "execute_result"
    }
   ],
   "source": [
    "string3[::1]\n"
   ]
  },
  {
   "cell_type": "markdown",
   "id": "35f45444-51d8-4ccb-bbcd-ea48bcabb518",
   "metadata": {},
   "source": [
    "# 2)Explain the key feature of lists in Python?"
   ]
  },
  {
   "cell_type": "markdown",
   "id": "d27ddd12-37bd-453c-99da-b6206d4222aa",
   "metadata": {},
   "source": [
    "#A Python list is a versatile, flexible, and powerful built-in data type. \n",
    "#It allows you to create variable-length and mutable sequences of objects.\n",
    "##list >> ordered collection of items\n",
    "#[]\n",
    "#list >> like a shopping bag that can store anything\n",
    "#can store any data type >> hetrogeneous"
   ]
  },
  {
   "cell_type": "markdown",
   "id": "86d6a923-6488-45c5-95e5-50196fe8b2cb",
   "metadata": {},
   "source": [
    "#Here are the key features of lists:\n"
   ]
  },
  {
   "cell_type": "markdown",
   "id": "167b31c0-f5b6-4349-95d1-b45b815e94df",
   "metadata": {},
   "source": [
    "#1)Ordered:\n",
    "#List items have a defined order that remains constant unless explicitly modified.\n",
    "#New items added to a list are placed at the end."
   ]
  },
  {
   "cell_type": "code",
   "execution_count": 7,
   "id": "8a841ae6-93ab-4668-baa0-f2facf87ac93",
   "metadata": {},
   "outputs": [],
   "source": [
    "lis =[\"apple\",\"mango\",\"banana\"]\n",
    "lis.append(\"grapes\")             "
   ]
  },
  {
   "cell_type": "code",
   "execution_count": 10,
   "id": "10a54648-54f8-4e63-8bdb-565cc8813abe",
   "metadata": {},
   "outputs": [
    {
     "data": {
      "text/plain": [
       "['apple', 'mango', 'banana', 'grapes']"
      ]
     },
     "execution_count": 10,
     "metadata": {},
     "output_type": "execute_result"
    }
   ],
   "source": [
    "lis"
   ]
  },
  {
   "cell_type": "code",
   "execution_count": 12,
   "id": "f8a715d0-2e9f-40bf-beb5-45501fd91d2d",
   "metadata": {},
   "outputs": [
    {
     "name": "stdout",
     "output_type": "stream",
     "text": [
      "apple\n"
     ]
    }
   ],
   "source": [
    "print(lis[0])    #accessing list item by index"
   ]
  },
  {
   "cell_type": "code",
   "execution_count": 13,
   "id": "f2b05470-eee6-4b71-be51-c1325a0e09f0",
   "metadata": {},
   "outputs": [
    {
     "data": {
      "text/plain": [
       "'banana'"
      ]
     },
     "execution_count": 13,
     "metadata": {},
     "output_type": "execute_result"
    }
   ],
   "source": [
    "lis[2]"
   ]
  },
  {
   "cell_type": "code",
   "execution_count": 16,
   "id": "b852ef94-1ef7-42cb-9656-b484440f1b70",
   "metadata": {},
   "outputs": [
    {
     "data": {
      "text/plain": [
       "['sare jahan se accha', 'tujhe dekha to ye', 'maa tujhe salaam']"
      ]
     },
     "execution_count": 16,
     "metadata": {},
     "output_type": "execute_result"
    }
   ],
   "source": [
    "#use cases\n",
    "playlist = []\n",
    "playlist.append(\"sare jahan se accha\")\n",
    "playlist.append(\"tujhe dekha to ye\")\n",
    "playlist.append(\"maa tujhe salaam\")\n",
    "playlist"
   ]
  },
  {
   "cell_type": "markdown",
   "id": "78dd49dc-dbed-444d-bc68-748808c6c5d5",
   "metadata": {},
   "source": [
    "#2)Mutable (Changeable):\n",
    "#You can alter, add, and remove items from a list after its creation.\n",
    "#Lists adapt to your magical needs!"
   ]
  },
  {
   "cell_type": "code",
   "execution_count": 1,
   "id": "eda1dc12-93c8-45ca-9c51-bd161d240499",
   "metadata": {},
   "outputs": [],
   "source": [
    "#creating a list of magical artifacts\n",
    "artifacts = [\"Wand\", \"Amulet\", \"Spellbook\", \"Potion\", \"Crystal Ball\"]"
   ]
  },
  {
   "cell_type": "code",
   "execution_count": 2,
   "id": "7f7eec58-13ec-4f94-aa1a-68a37e417e29",
   "metadata": {},
   "outputs": [
    {
     "name": "stdout",
     "output_type": "stream",
     "text": [
      "['Wand', 'Amulet', 'Spellbook', 'Potion', 'Crystal Ball', 'Scroll']\n"
     ]
    }
   ],
   "source": [
    "# Adding a new item to the end of the list\n",
    "artifacts.append(\"Scroll\")\n",
    "print(artifacts)  "
   ]
  },
  {
   "cell_type": "code",
   "execution_count": 9,
   "id": "b43fcbad-05ed-4b16-b3c5-0a65f3522493",
   "metadata": {},
   "outputs": [
    {
     "name": "stdout",
     "output_type": "stream",
     "text": [
      "['Wand', 'Amulet', 'Spellbook', 'Crystal Ball', 'Scroll']\n"
     ]
    }
   ],
   "source": [
    "# Removing an item by value\n",
    "artifacts.remove(\"Potion\")\n",
    "print(artifacts) "
   ]
  },
  {
   "cell_type": "code",
   "execution_count": 22,
   "id": "59841af6-3da6-42af-85b1-2588bd8056f9",
   "metadata": {},
   "outputs": [
    {
     "data": {
      "text/plain": [
       "['Wand', 'Amulet', 'Spellbook', 'chawal', 'Potion', 'Crystal Ball']"
      ]
     },
     "execution_count": 22,
     "metadata": {},
     "output_type": "execute_result"
    }
   ],
   "source": [
    "#insert object before index\n",
    "artifacts = [\"Wand\", \"Amulet\", \"Spellbook\", \"Potion\", \"Crystal Ball\"]\n",
    "artifacts.insert(3,\"chawal\")\n",
    "artifacts                    "
   ]
  },
  {
   "cell_type": "markdown",
   "id": "435da15b-3d7a-45d4-a359-33e7cc448a01",
   "metadata": {},
   "source": [
    "#3)Allow Duplicates:\n",
    "#Since lists are indexed, they can contain items with the same value.\n",
    "#You can have multiple magical apples or enchanted bananas!"
   ]
  },
  {
   "cell_type": "code",
   "execution_count": 23,
   "id": "0b8cb7c4-d4a7-4d6c-84dc-dd31877116f2",
   "metadata": {},
   "outputs": [
    {
     "name": "stdout",
     "output_type": "stream",
     "text": [
      "your appointment is tommorrow \n",
      "your appointment is tommorrow \n",
      "your appointment is tommorrow \n",
      "\n"
     ]
    }
   ],
   "source": [
    "msg = \"your appointment is tommorrow \\n\"\n",
    "print(msg*3)"
   ]
  },
  {
   "cell_type": "code",
   "execution_count": 24,
   "id": "0c91cc35-e12d-445b-8fdb-2158559cccbd",
   "metadata": {},
   "outputs": [
    {
     "data": {
      "text/plain": [
       "['neil', 'neil', 'neil', 'neil', 'neil']"
      ]
     },
     "execution_count": 24,
     "metadata": {},
     "output_type": "execute_result"
    }
   ],
   "source": [
    "[\"neil\"]*5"
   ]
  },
  {
   "cell_type": "markdown",
   "id": "6badafac-bce7-44e6-ae31-69c9474dbc4b",
   "metadata": {},
   "source": [
    "#4Heterogeneous Elements:\n",
    "#A list can store objects of any data type.\n",
    "#Mix strings, integers, floats, and even custom objects within the same list."
   ]
  },
  {
   "cell_type": "code",
   "execution_count": 25,
   "id": "a7745bac-2868-4492-9232-9da7ca9a147e",
   "metadata": {},
   "outputs": [
    {
     "data": {
      "text/plain": [
       "['orange', 'apple', 1, 4, (5+6j), 4.5, True, False]"
      ]
     },
     "execution_count": 25,
     "metadata": {},
     "output_type": "execute_result"
    }
   ],
   "source": [
    "grocery_list =[\"orange\",\"apple\",1,4,5+6j,4.5,True,False]\n",
    "grocery_list"
   ]
  },
  {
   "cell_type": "code",
   "execution_count": 26,
   "id": "31962f16-fbb3-44f9-ba0c-617ab5303a41",
   "metadata": {},
   "outputs": [
    {
     "data": {
      "text/plain": [
       "list"
      ]
     },
     "execution_count": 26,
     "metadata": {},
     "output_type": "execute_result"
    }
   ],
   "source": [
    "type(grocery_list)"
   ]
  },
  {
   "cell_type": "code",
   "execution_count": 28,
   "id": "04670a96-5a05-4d34-8746-1622d3eda817",
   "metadata": {},
   "outputs": [
    {
     "data": {
      "text/plain": [
       "str"
      ]
     },
     "execution_count": 28,
     "metadata": {},
     "output_type": "execute_result"
    }
   ],
   "source": [
    "type(grocery_list[0])"
   ]
  },
  {
   "cell_type": "code",
   "execution_count": 30,
   "id": "2eeddf0c-ffc4-4cab-aaaf-78adb6195402",
   "metadata": {},
   "outputs": [
    {
     "data": {
      "text/plain": [
       "str"
      ]
     },
     "execution_count": 30,
     "metadata": {},
     "output_type": "execute_result"
    }
   ],
   "source": [
    "type(grocery_list[1])"
   ]
  },
  {
   "cell_type": "code",
   "execution_count": 31,
   "id": "7b150938-04d8-4269-9dfe-077d1d12ee4d",
   "metadata": {},
   "outputs": [
    {
     "data": {
      "text/plain": [
       "int"
      ]
     },
     "execution_count": 31,
     "metadata": {},
     "output_type": "execute_result"
    }
   ],
   "source": [
    "type(grocery_list[2])"
   ]
  },
  {
   "cell_type": "code",
   "execution_count": 33,
   "id": "81e75f26-e03a-489c-bd84-2459fefbd3c8",
   "metadata": {},
   "outputs": [
    {
     "data": {
      "text/plain": [
       "complex"
      ]
     },
     "execution_count": 33,
     "metadata": {},
     "output_type": "execute_result"
    }
   ],
   "source": [
    "type(grocery_list[4])"
   ]
  },
  {
   "cell_type": "code",
   "execution_count": 34,
   "id": "168f7304-d51f-4c16-86cf-26d5b7ff54d9",
   "metadata": {},
   "outputs": [
    {
     "data": {
      "text/plain": [
       "float"
      ]
     },
     "execution_count": 34,
     "metadata": {},
     "output_type": "execute_result"
    }
   ],
   "source": [
    "type(grocery_list[5])"
   ]
  },
  {
   "cell_type": "code",
   "execution_count": 35,
   "id": "5d3f4f0c-1cac-4b56-ab24-a9fa891a32af",
   "metadata": {},
   "outputs": [
    {
     "data": {
      "text/plain": [
       "bool"
      ]
     },
     "execution_count": 35,
     "metadata": {},
     "output_type": "execute_result"
    }
   ],
   "source": [
    "type(grocery_list[6])"
   ]
  },
  {
   "cell_type": "markdown",
   "id": "a97f17e8-a458-491c-bcb2-95e774a9a21b",
   "metadata": {},
   "source": [
    "#5)slicing the list is another key feature\n"
   ]
  },
  {
   "cell_type": "code",
   "execution_count": 40,
   "id": "7505f472-651a-4e93-8680-6b258cd9a73c",
   "metadata": {},
   "outputs": [
    {
     "name": "stdout",
     "output_type": "stream",
     "text": [
      "['apple', 1, 4]\n"
     ]
    }
   ],
   "source": [
    "grocery_list =[\"orange\",\"apple\",1,4,5+6j,4.5,True,False]\n",
    "selected_grocery = grocery_list[1:4]\n",
    "print(selected_grocery) "
   ]
  },
  {
   "cell_type": "markdown",
   "id": "a42723e7-71c7-4dbd-a15c-aec891289653",
   "metadata": {},
   "source": [
    "#6)Checking if an item exists in the list\n"
   ]
  },
  {
   "cell_type": "code",
   "execution_count": 42,
   "id": "34a6f125-703a-4449-a496-e29eda31af92",
   "metadata": {},
   "outputs": [
    {
     "name": "stdout",
     "output_type": "stream",
     "text": [
      "thank god ! i got it.\n"
     ]
    }
   ],
   "source": [
    "if \"apple\" in grocery_list:\n",
    "    print(\"thank god ! i got it.\")\n",
    "else:\n",
    "    print(\"oh shit! i forget\")"
   ]
  },
  {
   "cell_type": "code",
   "execution_count": 44,
   "id": "d0b8cf3f-61a4-47ac-86a3-68f2d6749146",
   "metadata": {},
   "outputs": [
    {
     "name": "stdout",
     "output_type": "stream",
     "text": [
      "oh shit! i forget.\n"
     ]
    }
   ],
   "source": [
    "if \"tarbuj\" in grocery_list:\n",
    "    print(\"thank god ! i got it.\")\n",
    "else:\n",
    "    print(\"oh shit! i forget.\")"
   ]
  },
  {
   "cell_type": "markdown",
   "id": "0639649e-c0fc-43fb-8199-a49a8474dc4d",
   "metadata": {},
   "source": [
    "#7) Finding the length of the list\n"
   ]
  },
  {
   "cell_type": "code",
   "execution_count": 45,
   "id": "b440247c-b71f-4f93-8cef-919739a56bc3",
   "metadata": {},
   "outputs": [
    {
     "data": {
      "text/plain": [
       "8"
      ]
     },
     "execution_count": 45,
     "metadata": {},
     "output_type": "execute_result"
    }
   ],
   "source": [
    "len(grocery_list)\n"
   ]
  },
  {
   "cell_type": "markdown",
   "id": "0c887075-27d3-4431-94c0-87cf8e63f1e4",
   "metadata": {},
   "source": [
    "# 3)Describe how to access, modify, and delete elements in a list with examples?"
   ]
  },
  {
   "cell_type": "markdown",
   "id": "10a94a75-9d36-4510-8ea7-9d62567e6286",
   "metadata": {},
   "source": [
    "#Accessing Elements in a List:"
   ]
  },
  {
   "cell_type": "markdown",
   "id": "73889473-220d-42f0-b354-1389c9238c36",
   "metadata": {},
   "source": [
    "#1)By Index (The Sorcerer’s Way):\n",
    "#You can access individual elements using their index (position) within the list.\n",
    "#Indices start from 0 (like magical scrolls numbered from the beginning)."
   ]
  },
  {
   "cell_type": "code",
   "execution_count": 46,
   "id": "d4d6bbfe-9a01-4f3e-a190-cd76a5ba29c0",
   "metadata": {},
   "outputs": [
    {
     "name": "stdout",
     "output_type": "stream",
     "text": [
      "Gandalf\n",
      "Dumbledore\n"
     ]
    }
   ],
   "source": [
    "wizards = [\"Gandalf\", \"Merlin\", \"Dumbledore\", \"Rincewind\"]\n",
    "\n",
    "# Access the first wizard\n",
    "print(wizards[0])  # Output: Gandalf\n",
    "\n",
    "# Access the third wizard\n",
    "print(wizards[2])  # Output: Dumbledore\n"
   ]
  },
  {
   "cell_type": "markdown",
   "id": "cf5444fa-ef7a-4828-bbfd-2f4db25aeaca",
   "metadata": {},
   "source": [
    "#2)Negative Indices (The Reverse Spell):\n",
    "#Negative indices count from the end of the list.\n",
    "#-1 refers to the last element, -2 to the second-to-last, and so on.\n"
   ]
  },
  {
   "cell_type": "code",
   "execution_count": 47,
   "id": "93efa6d7-518d-4274-831b-9d3b0a572709",
   "metadata": {},
   "outputs": [
    {
     "name": "stdout",
     "output_type": "stream",
     "text": [
      "Rincewind\n"
     ]
    }
   ],
   "source": [
    "# Access the last wizard\n",
    "print(wizards[-1])  # Output: Rincewind\n"
   ]
  },
  {
   "cell_type": "code",
   "execution_count": 48,
   "id": "d4485ba8-94d2-4223-804b-42c9ebe3cd16",
   "metadata": {},
   "outputs": [
    {
     "name": "stdout",
     "output_type": "stream",
     "text": [
      "Merlin\n"
     ]
    }
   ],
   "source": [
    "print(wizards[-3])"
   ]
  },
  {
   "cell_type": "markdown",
   "id": "4d80094e-cd5d-4aaa-a816-8e81083865b3",
   "metadata": {},
   "source": [
    "#Modifying Elements in a List:"
   ]
  },
  {
   "cell_type": "markdown",
   "id": "327fed94-fb38-436e-9e47-86d89f7953e8",
   "metadata": {},
   "source": [
    "#1)By Index (The Shape-Shifting Spell):\n",
    "#You can change the value of an existing element by assigning a new value to its index."
   ]
  },
  {
   "cell_type": "code",
   "execution_count": 49,
   "id": "bf8d0e57-7e56-433f-a2db-90e1c944294a",
   "metadata": {},
   "outputs": [
    {
     "name": "stdout",
     "output_type": "stream",
     "text": [
      "['Gandalf', 'Morgana', 'Dumbledore', 'Rincewind']\n"
     ]
    }
   ],
   "source": [
    "wizards[1] = \"Morgana\"\n",
    "print(wizards)  \n"
   ]
  },
  {
   "cell_type": "code",
   "execution_count": 50,
   "id": "38353d57-e776-4e47-8b02-d6ea37a1ff83",
   "metadata": {},
   "outputs": [],
   "source": [
    "wizards[2] = \"KRACKOFFICER\""
   ]
  },
  {
   "cell_type": "code",
   "execution_count": 51,
   "id": "d26c0380-fba5-4815-a153-335dfecb73af",
   "metadata": {},
   "outputs": [
    {
     "data": {
      "text/plain": [
       "['Gandalf', 'Morgana', 'KRACKOFFICER', 'Rincewind']"
      ]
     },
     "execution_count": 51,
     "metadata": {},
     "output_type": "execute_result"
    }
   ],
   "source": [
    "wizards"
   ]
  },
  {
   "cell_type": "markdown",
   "id": "9e4c0a45-7a28-4c3d-a972-b5bd1e06c5ef",
   "metadata": {},
   "source": [
    "#Deleting Elements from a List:"
   ]
  },
  {
   "cell_type": "markdown",
   "id": "961337b0-3a9d-49be-8d4f-9b93462435c9",
   "metadata": {},
   "source": [
    "#1)By Index (The Vanishing Spell):\n",
    "#To remove an element, use the del statement followed by the index."
   ]
  },
  {
   "cell_type": "code",
   "execution_count": 52,
   "id": "fca84bb9-a23d-4aaa-adbe-a30503e818e7",
   "metadata": {},
   "outputs": [
    {
     "name": "stdout",
     "output_type": "stream",
     "text": [
      "['Gandalf', 'Morgana', 'Rincewind']\n"
     ]
    }
   ],
   "source": [
    "del wizards[2]  # Removes 'KRACKOFFICER'\n",
    "print(wizards)  # Output: ['Gandalf', 'Morgana', 'Rincewind']\n"
   ]
  },
  {
   "cell_type": "markdown",
   "id": "586fa88d-0e84-42fc-b963-554e64449e6f",
   "metadata": {},
   "source": [
    "#2)Using pop() (The Disappearing Act):\n",
    "#The pop() method removes and returns the last element by default.\n",
    "#You can specify an index to remove a specific element."
   ]
  },
  {
   "cell_type": "code",
   "execution_count": 53,
   "id": "0ecce97c-73b9-462c-b8b1-98a5916c3ff5",
   "metadata": {},
   "outputs": [
    {
     "name": "stdout",
     "output_type": "stream",
     "text": [
      "Removed wizard: Gandalf\n",
      "['Morgana', 'Rincewind']\n"
     ]
    }
   ],
   "source": [
    "removed_wizard = wizards.pop(0)  # Removes 'Gandalf'\n",
    "print(f\"Removed wizard: {removed_wizard}\")\n",
    "print(wizards)  # Output: ['Morgana', 'Rincewind']\n"
   ]
  },
  {
   "cell_type": "code",
   "execution_count": 54,
   "id": "4cff6164-d646-4052-9380-49fb44070ba7",
   "metadata": {},
   "outputs": [
    {
     "data": {
      "text/plain": [
       "'algorithm'"
      ]
     },
     "execution_count": 54,
     "metadata": {},
     "output_type": "execute_result"
    }
   ],
   "source": [
    "book_list = [\"data analytics\",\"algorithm\",\"conclusion\",\"index\",\"algorithm\"]\n",
    "book_list.pop()     #LAST ELEMENT REMOVED "
   ]
  },
  {
   "cell_type": "code",
   "execution_count": 55,
   "id": "06b5c2a1-8a41-4e4f-8fa8-06fd0e82fd00",
   "metadata": {},
   "outputs": [
    {
     "data": {
      "text/plain": [
       "'conclusion'"
      ]
     },
     "execution_count": 55,
     "metadata": {},
     "output_type": "execute_result"
    }
   ],
   "source": [
    "book_list.pop(2) #removes index 2 element from the  list"
   ]
  },
  {
   "cell_type": "markdown",
   "id": "726b688f-d4f4-4d15-a695-8c33a3350704",
   "metadata": {},
   "source": [
    "# 4)Compare and contrast tuples and lists with examples?\n"
   ]
  },
  {
   "cell_type": "markdown",
   "id": "a2e90dfa-c49b-40ab-b395-dae954277c65",
   "metadata": {},
   "source": [
    "#COMPARISION OF TUPLES & LISTS"
   ]
  },
  {
   "cell_type": "code",
   "execution_count": 161,
   "id": "e9b667b9-7f49-4c18-af0d-545b8fb03e06",
   "metadata": {},
   "outputs": [
    {
     "name": "stdout",
     "output_type": "stream",
     "text": [
      "FEATURES          \tTUPLES                                  \tLISTS\n",
      "MUTABILITY             \timmutable(cant be changed)                \tmutable (can changed)\n",
      "SYNTAX          \tTuples use parentheses (())               \tLists use square brackets ([])\n",
      "Use Case        \tTuples for fixed records or data points\t\tLists for dynamic collections of item\n",
      "Memory Efficiency    \tTuples consume less memory                    \tLists consume more memory\n",
      "Built-in Methods    \tTuples have fewer built-in methods             \tLists have many built-in methods\n"
     ]
    }
   ],
   "source": [
    "table1 =\"FEATURES          \\tTUPLES                                  \\tLISTS\\nMUTABILITY             \\timmutable(cant be changed)                \\tmutable (can changed)\"\n",
    "table2 =\"SYNTAX          \\tTuples use parentheses (())               \\tLists use square brackets ([])\"\n",
    "table3 =\"Use Case        \\tTuples for fixed records or data points\\t\tLists for dynamic collections of item\"\n",
    "table4 =\"Memory Efficiency    \\tTuples consume less memory                    \\tLists consume more memory\"\n",
    "table5 =\"Built-in Methods    \\tTuples have fewer built-in methods             \\tLists have many built-in methods\"\n",
    "\n",
    "\n",
    "print(table1)\n",
    "print(table2)\n",
    "print(table3)                   #i tried hard for  this table \n",
    "print(table4)                                            \n",
    "print(table5)"
   ]
  },
  {
   "cell_type": "markdown",
   "id": "1663ad31-49dc-48b7-8304-6bd04d092579",
   "metadata": {},
   "source": [
    "#Examples compring Tuples & Lists given below----"
   ]
  },
  {
   "cell_type": "code",
   "execution_count": 106,
   "id": "cc58e448-e2fe-476e-b7df-ead617404b23",
   "metadata": {},
   "outputs": [
    {
     "data": {
      "text/plain": [
       "('krackofficer', 'neil', 2, 2.5, (5+4j), True)"
      ]
     },
     "execution_count": 106,
     "metadata": {},
     "output_type": "execute_result"
    }
   ],
   "source": [
    "#To check mutability in TUPLES\n",
    "t = (\"krackofficer\",\"neil\",2,2.5,5+4j,True)       #syntax parentheses (())is used here\n",
    "t"
   ]
  },
  {
   "cell_type": "code",
   "execution_count": 107,
   "id": "c3232ac7-3dc4-4a22-b374-faa87503aa6f",
   "metadata": {},
   "outputs": [
    {
     "data": {
      "text/plain": [
       "tuple"
      ]
     },
     "execution_count": 107,
     "metadata": {},
     "output_type": "execute_result"
    }
   ],
   "source": [
    "type(t)"
   ]
  },
  {
   "cell_type": "code",
   "execution_count": 108,
   "id": "a9b6730c-6a02-4b7b-a49f-798ac72fe0d5",
   "metadata": {},
   "outputs": [
    {
     "data": {
      "text/plain": [
       "'krackofficer'"
      ]
     },
     "execution_count": 108,
     "metadata": {},
     "output_type": "execute_result"
    }
   ],
   "source": [
    "t[0]    #output is 'krackofficer'"
   ]
  },
  {
   "cell_type": "code",
   "execution_count": 111,
   "id": "c68ac2e6-e640-4d91-977a-fa5b1c239f0a",
   "metadata": {},
   "outputs": [
    {
     "ename": "TypeError",
     "evalue": "'tuple' object does not support item assignment",
     "output_type": "error",
     "traceback": [
      "\u001b[0;31m---------------------------------------------------------------------------\u001b[0m",
      "\u001b[0;31mTypeError\u001b[0m                                 Traceback (most recent call last)",
      "Cell \u001b[0;32mIn[111], line 1\u001b[0m\n\u001b[0;32m----> 1\u001b[0m \u001b[43mt\u001b[49m\u001b[43m[\u001b[49m\u001b[38;5;241;43m0\u001b[39;49m\u001b[43m]\u001b[49m \u001b[38;5;241m=\u001b[39m\u001b[38;5;124m\"\u001b[39m\u001b[38;5;124mbazigar\u001b[39m\u001b[38;5;124m\"\u001b[39m   \n",
      "\u001b[0;31mTypeError\u001b[0m: 'tuple' object does not support item assignment"
     ]
    }
   ],
   "source": [
    "t[0] =\"bazigar\"   #since it is immutable"
   ]
  },
  {
   "cell_type": "code",
   "execution_count": 114,
   "id": "18f4c489-2df0-4c09-9fff-856f348f81c5",
   "metadata": {},
   "outputs": [
    {
     "data": {
      "text/plain": [
       "['orange', 'apple', 1, 4, (5+6j), 4.5, True, False]"
      ]
     },
     "execution_count": 114,
     "metadata": {},
     "output_type": "execute_result"
    }
   ],
   "source": [
    "#To check mutability in LISTS\n",
    "grocery_list =[\"orange\",\"apple\",1,4,5+6j,4.5,True,False]     #syntax square brackets ([]) is used here\n",
    "grocery_list"
   ]
  },
  {
   "cell_type": "code",
   "execution_count": 115,
   "id": "ca87273e-9afd-4032-8e33-96cc8cb551b3",
   "metadata": {},
   "outputs": [
    {
     "data": {
      "text/plain": [
       "'orange'"
      ]
     },
     "execution_count": 115,
     "metadata": {},
     "output_type": "execute_result"
    }
   ],
   "source": [
    "grocery_list[0]"
   ]
  },
  {
   "cell_type": "code",
   "execution_count": 116,
   "id": "c65d77c0-130b-41b4-88a6-ce8a1f66964b",
   "metadata": {},
   "outputs": [
    {
     "data": {
      "text/plain": [
       "list"
      ]
     },
     "execution_count": 116,
     "metadata": {},
     "output_type": "execute_result"
    }
   ],
   "source": [
    "type(grocery_list)"
   ]
  },
  {
   "cell_type": "code",
   "execution_count": 117,
   "id": "9ba818af-0eba-4c2c-bbe7-bfe5c14802df",
   "metadata": {},
   "outputs": [
    {
     "data": {
      "text/plain": [
       "['KRACKOFFICER', 'apple', 1, 4, (5+6j), 4.5, True, False]"
      ]
     },
     "execution_count": 117,
     "metadata": {},
     "output_type": "execute_result"
    }
   ],
   "source": [
    "grocery_list[0] = \"KRACKOFFICER\"     #List are mutable so change possible \n",
    "\n",
    "\n",
    "grocery_list"
   ]
  },
  {
   "cell_type": "code",
   "execution_count": 118,
   "id": "7b9e0f0c-c7a6-4faf-872d-63ddeb3c3e91",
   "metadata": {},
   "outputs": [
    {
     "data": {
      "text/plain": [
       "('sanjay', 'viajay', 'rahul', 'mahesh')"
      ]
     },
     "execution_count": 118,
     "metadata": {},
     "output_type": "execute_result"
    }
   ],
   "source": [
    "#In tuples >>  use case >> adhar id, empl id, pan id  >> u dont want to change & use tuple to store the data\n",
    "emp_name = (\"sanjay\",\"viajay\",\"rahul\",\"mahesh\")    \n",
    "emp_name"
   ]
  },
  {
   "cell_type": "code",
   "execution_count": null,
   "id": "c07a3098-dedb-4aba-8030-d34ccc380556",
   "metadata": {},
   "outputs": [],
   "source": [
    "t = (1,2,\"apple\",5+6j) # tuple is hetrogeneous"
   ]
  },
  {
   "cell_type": "code",
   "execution_count": 119,
   "id": "3e7173fd-8217-440e-8225-043e59a2f784",
   "metadata": {},
   "outputs": [
    {
     "data": {
      "text/plain": [
       "('krackofficer', 'neil', 2, 2.5, (5+4j), True)"
      ]
     },
     "execution_count": 119,
     "metadata": {},
     "output_type": "execute_result"
    }
   ],
   "source": [
    "t"
   ]
  },
  {
   "cell_type": "code",
   "execution_count": 120,
   "id": "54d96c4c-1fa3-4d15-b28d-4f8133256514",
   "metadata": {},
   "outputs": [
    {
     "data": {
      "text/plain": [
       "['neil', 'jhamman', 'naina', 'virat']"
      ]
     },
     "execution_count": 120,
     "metadata": {},
     "output_type": "execute_result"
    }
   ],
   "source": [
    "#In Lists >>use case                #can modify,change,add etc in Lists\n",
    "bus_seat =[\"neil\",\"naina\",\"virat\"]\n",
    "bus_seat.insert(1,\"jhamman\")\n",
    "bus_seat"
   ]
  },
  {
   "cell_type": "code",
   "execution_count": 121,
   "id": "5341da1e-2f5a-4dae-a8f5-73ec417be3e9",
   "metadata": {},
   "outputs": [
    {
     "data": {
      "text/plain": [
       "['orange', 'apple', 1, 4, (5+6j), 4.5, True, False]"
      ]
     },
     "execution_count": 121,
     "metadata": {},
     "output_type": "execute_result"
    }
   ],
   "source": [
    "grocery_list =[\"orange\",\"apple\",1,4,5+6j,4.5,True,False]   #list is also hetrogeneous i.e can have int,complex,bool,num,str.\n",
    "grocery_list"
   ]
  },
  {
   "cell_type": "markdown",
   "id": "a4975539-1acb-481f-b8cc-517572328feb",
   "metadata": {},
   "source": [
    "# 5)Describe the key features of sets and provide examples of their use?"
   ]
  },
  {
   "cell_type": "markdown",
   "id": "f7acf8ec-7331-4b61-bece-eb9624084dbc",
   "metadata": {},
   "source": [
    "#Sets are a fundamental data type in many programming languages, including Python. \n",
    "Here are the key features of sets:"
   ]
  },
  {
   "cell_type": "markdown",
   "id": "d02cc909-dfb0-424a-b615-2b24a082a94c",
   "metadata": {},
   "source": [
    "#1)Unordered >> Sets do not maintain any particular order for elements >> When you iterate over a set, the order of elements is not guaranteed.\n"
   ]
  },
  {
   "cell_type": "code",
   "execution_count": 122,
   "id": "30599d1d-6384-4ca5-a482-7e7344592f51",
   "metadata": {},
   "outputs": [
    {
     "data": {
      "text/plain": [
       "{'anaconda', 'black mamba', 'cobra', 'viper'}"
      ]
     },
     "execution_count": 122,
     "metadata": {},
     "output_type": "execute_result"
    }
   ],
   "source": [
    "s = {\"viper\",\"anaconda\",\"black mamba\",\"cobra\"}  #sets >> are unordered \n",
    "s     "
   ]
  },
  {
   "cell_type": "code",
   "execution_count": 128,
   "id": "72638f8d-493e-49e1-a300-fd2c7fb17fe0",
   "metadata": {},
   "outputs": [
    {
     "data": {
      "text/plain": [
       "set"
      ]
     },
     "execution_count": 128,
     "metadata": {},
     "output_type": "execute_result"
    }
   ],
   "source": [
    "type(s)"
   ]
  },
  {
   "cell_type": "code",
   "execution_count": 127,
   "id": "ed396c7a-7dd4-45f1-bc42-81e2af8faca8",
   "metadata": {},
   "outputs": [
    {
     "ename": "TypeError",
     "evalue": "'set' object is not subscriptable",
     "output_type": "error",
     "traceback": [
      "\u001b[0;31m---------------------------------------------------------------------------\u001b[0m",
      "\u001b[0;31mTypeError\u001b[0m                                 Traceback (most recent call last)",
      "Cell \u001b[0;32mIn[127], line 1\u001b[0m\n\u001b[0;32m----> 1\u001b[0m \u001b[43ms\u001b[49m\u001b[43m[\u001b[49m\u001b[38;5;241;43m0\u001b[39;49m\u001b[43m]\u001b[49m\n",
      "\u001b[0;31mTypeError\u001b[0m: 'set' object is not subscriptable"
     ]
    }
   ],
   "source": [
    "s[0]    #error >> no indexing as sets are unordered & unique"
   ]
  },
  {
   "cell_type": "code",
   "execution_count": 125,
   "id": "615297b2-3a05-461c-8adc-102b9c43695e",
   "metadata": {},
   "outputs": [
    {
     "name": "stdout",
     "output_type": "stream",
     "text": [
      "{1, 2, 3, 4}\n"
     ]
    }
   ],
   "source": [
    "#Creating a set\n",
    "my_set = {3, 2, 1, 4}\n",
    "print(my_set)"
   ]
  },
  {
   "cell_type": "markdown",
   "id": "880c03e6-ef17-4273-91ad-fff9b89e1eae",
   "metadata": {},
   "source": [
    "#2)Unique Elements >>Sets automatically remove duplicate elements>> Each element in a set is unique"
   ]
  },
  {
   "cell_type": "code",
   "execution_count": 126,
   "id": "96bf30e3-6807-4b52-9a55-656af4aa49a2",
   "metadata": {},
   "outputs": [
    {
     "data": {
      "text/plain": [
       "{1, 2, 3, 'Neil', 'neil'}"
      ]
     },
     "execution_count": 126,
     "metadata": {},
     "output_type": "execute_result"
    }
   ],
   "source": [
    "s ={\"Neil\",\"neil\",\"Neil\",\"neil\",1,1,1,2,2,2,2,2,3}  #shows set is a unique collection of element\n",
    "s"
   ]
  },
  {
   "cell_type": "markdown",
   "id": "7f26f1f8-5be5-488f-9984-be812392a329",
   "metadata": {},
   "source": [
    "#3)Mutable>> You can add or remove elements from a set after its creation >>However, the elements within a set must be immutable (e.g., integers, strings, tuples)."
   ]
  },
  {
   "cell_type": "code",
   "execution_count": 129,
   "id": "fbbf0966-f47d-45d1-a020-ac30f071a2cd",
   "metadata": {},
   "outputs": [
    {
     "data": {
      "text/plain": [
       "{'orange', 'pink', 'red'}"
      ]
     },
     "execution_count": 129,
     "metadata": {},
     "output_type": "execute_result"
    }
   ],
   "source": [
    "#check mutability\n",
    "s={ \"red\",\"orange\",\"pink\",\"red\",\"pink\"} \n",
    "s"
   ]
  },
  {
   "cell_type": "code",
   "execution_count": 131,
   "id": "22e5f5fc-162c-453c-a5df-1bb11deb9c8c",
   "metadata": {},
   "outputs": [
    {
     "data": {
      "text/plain": [
       "{'krackofficer', 'orange', 'pink', 'red'}"
      ]
     },
     "execution_count": 131,
     "metadata": {},
     "output_type": "execute_result"
    }
   ],
   "source": [
    "s.add(\"krackofficer\")   #adding \n",
    "s"
   ]
  },
  {
   "cell_type": "code",
   "execution_count": 132,
   "id": "3c070324-20c7-4239-b542-caa4f8b53644",
   "metadata": {},
   "outputs": [
    {
     "data": {
      "text/plain": [
       "{'krackofficer', 'orange', 'red'}"
      ]
     },
     "execution_count": 132,
     "metadata": {},
     "output_type": "execute_result"
    }
   ],
   "source": [
    "s.remove(\"pink\")       #removing\n",
    "s"
   ]
  },
  {
   "cell_type": "code",
   "execution_count": 133,
   "id": "19fe9394-b3e6-49b5-978e-70507e6e7ded",
   "metadata": {},
   "outputs": [
    {
     "ename": "TypeError",
     "evalue": "unhashable type: 'set'",
     "output_type": "error",
     "traceback": [
      "\u001b[0;31m---------------------------------------------------------------------------\u001b[0m",
      "\u001b[0;31mTypeError\u001b[0m                                 Traceback (most recent call last)",
      "Cell \u001b[0;32mIn[133], line 1\u001b[0m\n\u001b[0;32m----> 1\u001b[0m s \u001b[38;5;241m=\u001b[39m {\u001b[38;5;241m1\u001b[39m,\u001b[38;5;241m1\u001b[39m,\u001b[38;5;241m1\u001b[39m,\u001b[38;5;241m2\u001b[39m,\u001b[38;5;241m2\u001b[39m,\u001b[38;5;241m2\u001b[39m,{\u001b[38;5;241m1\u001b[39m,\u001b[38;5;241m1\u001b[39m,\u001b[38;5;241m12\u001b[39m,\u001b[38;5;241m2\u001b[39m}}     \u001b[38;5;66;03m#sets inside sets\u001b[39;00m\n\u001b[1;32m      2\u001b[0m s                              \u001b[38;5;66;03m#unashable type error >> it is mutable >> list,sets\u001b[39;00m\n\u001b[1;32m      3\u001b[0m                               \u001b[38;5;66;03m#immutable data structure has a stable hash value like tuples\u001b[39;00m\n",
      "\u001b[0;31mTypeError\u001b[0m: unhashable type: 'set'"
     ]
    }
   ],
   "source": [
    "s = {1,1,1,2,2,2,{1,1,12,2}}     #sets inside sets\n",
    "s                              #unashable type error >> it is mutable >> list,sets\n",
    "                              #immutable data structure has a stable hash value like tuples"
   ]
  },
  {
   "cell_type": "code",
   "execution_count": 134,
   "id": "abdb158d-c4e3-4c4d-9998-23ff96e1a4ec",
   "metadata": {},
   "outputs": [
    {
     "ename": "TypeError",
     "evalue": "unhashable type: 'list'",
     "output_type": "error",
     "traceback": [
      "\u001b[0;31m---------------------------------------------------------------------------\u001b[0m",
      "\u001b[0;31mTypeError\u001b[0m                                 Traceback (most recent call last)",
      "Cell \u001b[0;32mIn[134], line 1\u001b[0m\n\u001b[0;32m----> 1\u001b[0m s \u001b[38;5;241m=\u001b[39m {\u001b[38;5;241m1\u001b[39m,\u001b[38;5;241m1\u001b[39m,\u001b[38;5;241m1\u001b[39m,\u001b[38;5;241m2\u001b[39m,\u001b[38;5;241m2\u001b[39m,\u001b[38;5;241m2\u001b[39m,[\u001b[38;5;241m1\u001b[39m,\u001b[38;5;241m1\u001b[39m,\u001b[38;5;241m12\u001b[39m,\u001b[38;5;241m2\u001b[39m]}   \u001b[38;5;66;03m#list inside sets >> mutable >> shows error\u001b[39;00m\n\u001b[1;32m      2\u001b[0m s\n",
      "\u001b[0;31mTypeError\u001b[0m: unhashable type: 'list'"
     ]
    }
   ],
   "source": [
    "s = {1,1,1,2,2,2,[1,1,12,2]}   #list inside sets >> mutable >> shows error\n",
    "s"
   ]
  },
  {
   "cell_type": "code",
   "execution_count": 135,
   "id": "69f33aff-740f-4c2e-8eb5-44868d36d8b9",
   "metadata": {},
   "outputs": [
    {
     "data": {
      "text/plain": [
       "{(1, 1, 12, 2), 1, 2}"
      ]
     },
     "execution_count": 135,
     "metadata": {},
     "output_type": "execute_result"
    }
   ],
   "source": [
    "s = {1,1,1,2,2,2,(1,1,12,2)}   # tuple inside sets >>shows no error as immutable >>stable hash type\n",
    "s"
   ]
  },
  {
   "cell_type": "markdown",
   "id": "1ffab15a-e740-4c69-9ed9-76979bf7e8b2",
   "metadata": {},
   "source": [
    "#4)Optimized for Membership Testing>> Sets are highly optimized for checking whether an element is present #Membership tests (in, not in) are fast"
   ]
  },
  {
   "cell_type": "code",
   "execution_count": 142,
   "id": "5f47fb32-7862-4ed7-afe4-e1914c714068",
   "metadata": {},
   "outputs": [
    {
     "data": {
      "text/plain": [
       "58674868739793749"
      ]
     },
     "execution_count": 142,
     "metadata": {},
     "output_type": "execute_result"
    }
   ],
   "source": [
    "t1 = {34,787,468468,4476,487486,34324,1000000000,58674868739793749,8478}\n",
    "max(t1)"
   ]
  },
  {
   "cell_type": "code",
   "execution_count": 143,
   "id": "81d801a9-91ed-4085-9d9b-18c6d2436928",
   "metadata": {},
   "outputs": [
    {
     "data": {
      "text/plain": [
       "set"
      ]
     },
     "execution_count": 143,
     "metadata": {},
     "output_type": "execute_result"
    }
   ],
   "source": [
    "type(t1)"
   ]
  },
  {
   "cell_type": "code",
   "execution_count": 144,
   "id": "91a9ff32-1da4-4801-9e95-02cd42b854bc",
   "metadata": {},
   "outputs": [
    {
     "data": {
      "text/plain": [
       "34"
      ]
     },
     "execution_count": 144,
     "metadata": {},
     "output_type": "execute_result"
    }
   ],
   "source": [
    "min(t1)  #checking if element present or not"
   ]
  },
  {
   "cell_type": "code",
   "execution_count": 145,
   "id": "541c864c-0f57-4442-a78a-9475c19c0a33",
   "metadata": {},
   "outputs": [
    {
     "data": {
      "text/plain": [
       "True"
      ]
     },
     "execution_count": 145,
     "metadata": {},
     "output_type": "execute_result"
    }
   ],
   "source": [
    "34 in t1  #as 34 is present so True"
   ]
  },
  {
   "cell_type": "code",
   "execution_count": 146,
   "id": "29759586-e11e-4db4-ada3-a797a672b9be",
   "metadata": {},
   "outputs": [
    {
     "data": {
      "text/plain": [
       "False"
      ]
     },
     "execution_count": 146,
     "metadata": {},
     "output_type": "execute_result"
    }
   ],
   "source": [
    "1011 in t1   #as 1011 not present in t1 so False"
   ]
  },
  {
   "cell_type": "code",
   "execution_count": 147,
   "id": "1951f642-0ab3-40c5-8a57-b97a12f6bffb",
   "metadata": {},
   "outputs": [
    {
     "data": {
      "text/plain": [
       "True"
      ]
     },
     "execution_count": 147,
     "metadata": {},
     "output_type": "execute_result"
    }
   ],
   "source": [
    "1011 not in t1   #as 1011 not present in t1 so we know this is not present so True"
   ]
  },
  {
   "cell_type": "code",
   "execution_count": 148,
   "id": "09f47553-27f2-41a3-b5d3-8e2785fde04d",
   "metadata": {},
   "outputs": [
    {
     "data": {
      "text/plain": [
       "False"
      ]
     },
     "execution_count": 148,
     "metadata": {},
     "output_type": "execute_result"
    }
   ],
   "source": [
    "34 not in t1"
   ]
  },
  {
   "cell_type": "code",
   "execution_count": 149,
   "id": "c6c3a140-651a-4ce8-bbbf-596ed409d585",
   "metadata": {},
   "outputs": [
    {
     "data": {
      "text/plain": [
       "{(1, 1, 12, 2), 1, 2}"
      ]
     },
     "execution_count": 149,
     "metadata": {},
     "output_type": "execute_result"
    }
   ],
   "source": [
    "s = {1,1,1,2,2,2,(1,1,12,2)}\n",
    "s"
   ]
  },
  {
   "cell_type": "code",
   "execution_count": 150,
   "id": "260edafb-4e5d-4132-90b7-2a19cf1e89b0",
   "metadata": {},
   "outputs": [
    {
     "data": {
      "text/plain": [
       "set"
      ]
     },
     "execution_count": 150,
     "metadata": {},
     "output_type": "execute_result"
    }
   ],
   "source": [
    "type(s)"
   ]
  },
  {
   "cell_type": "code",
   "execution_count": 151,
   "id": "bcb67150-0eff-4460-8bb1-97686c8e4b29",
   "metadata": {},
   "outputs": [
    {
     "name": "stdout",
     "output_type": "stream",
     "text": [
      "1\n",
      "2\n",
      "(1, 1, 12, 2)\n"
     ]
    }
   ],
   "source": [
    "for i in s:\n",
    "    print(i)"
   ]
  },
  {
   "cell_type": "markdown",
   "id": "c58e7d16-fd40-40b4-94ff-dc16f241a942",
   "metadata": {},
   "source": [
    "#5)Support for Common Set Operations: Sets support mathematical operations such as union, intersection, difference, and symmetric difference."
   ]
  },
  {
   "cell_type": "markdown",
   "id": "afd92353-5356-4c2b-b10a-4672a9c66810",
   "metadata": {},
   "source": [
    "#sets operations\n",
    "#union >> combines elements from two sets excluding duplicates\n",
    "#intersection >> common element in both sets\n",
    "#difference >> returns the elemenet present in first sets not in 2nd sets\n",
    "#symmetric difference >> returns the element present in either of the sets but not in both the sets "
   ]
  },
  {
   "cell_type": "code",
   "execution_count": 154,
   "id": "c9d24fa7-e945-44c6-8d3b-91ef2594dbb5",
   "metadata": {},
   "outputs": [],
   "source": [
    "#union >> combining both the element\n",
    "s1 = {\"hiking\",\"reading\",\"coding\"}\n",
    "s2 = {\"cycling\",\"coding\",\"writing\"}\n"
   ]
  },
  {
   "cell_type": "code",
   "execution_count": 155,
   "id": "2c26f984-9f03-48b7-98cc-0ed5607093fc",
   "metadata": {},
   "outputs": [
    {
     "data": {
      "text/plain": [
       "{'coding', 'hiking', 'reading'}"
      ]
     },
     "execution_count": 155,
     "metadata": {},
     "output_type": "execute_result"
    }
   ],
   "source": [
    "s1"
   ]
  },
  {
   "cell_type": "code",
   "execution_count": 156,
   "id": "748dd226-d11c-4adb-8f4f-935f7dd40787",
   "metadata": {},
   "outputs": [
    {
     "data": {
      "text/plain": [
       "{'coding', 'cycling', 'writing'}"
      ]
     },
     "execution_count": 156,
     "metadata": {},
     "output_type": "execute_result"
    }
   ],
   "source": [
    "s2    # union"
   ]
  },
  {
   "cell_type": "code",
   "execution_count": 157,
   "id": "0194f1ec-d56d-4c60-8aab-a36c5221853f",
   "metadata": {},
   "outputs": [
    {
     "data": {
      "text/plain": [
       "{'coding', 'cycling', 'hiking', 'reading', 'writing'}"
      ]
     },
     "execution_count": 157,
     "metadata": {},
     "output_type": "execute_result"
    }
   ],
   "source": [
    "s1 | s2       # union"
   ]
  },
  {
   "cell_type": "code",
   "execution_count": 158,
   "id": "7c37c30e-4518-4295-bb83-d3ef40ed513c",
   "metadata": {},
   "outputs": [
    {
     "data": {
      "text/plain": [
       "{'coding'}"
      ]
     },
     "execution_count": 158,
     "metadata": {},
     "output_type": "execute_result"
    }
   ],
   "source": [
    "#intersection >> common element\n",
    "s1 & s2"
   ]
  },
  {
   "cell_type": "code",
   "execution_count": 159,
   "id": "c2203ce0-4c1a-485b-9acb-faa933fb0d5f",
   "metadata": {},
   "outputs": [
    {
     "data": {
      "text/plain": [
       "{'hiking', 'reading'}"
      ]
     },
     "execution_count": 159,
     "metadata": {},
     "output_type": "execute_result"
    }
   ],
   "source": [
    "#difference    #only first element without common element\n",
    "s1 - s2"
   ]
  },
  {
   "cell_type": "code",
   "execution_count": 160,
   "id": "5285dbef-48a6-4a61-87f7-799d4841e59a",
   "metadata": {},
   "outputs": [
    {
     "data": {
      "text/plain": [
       "{'cycling', 'hiking', 'reading', 'writing'}"
      ]
     },
     "execution_count": 160,
     "metadata": {},
     "output_type": "execute_result"
    }
   ],
   "source": [
    "#symmetric difference    #except common\n",
    "s1 ^ s2"
   ]
  },
  {
   "cell_type": "markdown",
   "id": "f5c9488c-066f-47d4-a999-09258e0ce771",
   "metadata": {},
   "source": [
    "# 6) Discuss the use cases of tuples and sets on Python programming"
   ]
  },
  {
   "cell_type": "markdown",
   "id": "4ceaf701-c99c-476b-92f3-7e63630fd99c",
   "metadata": {},
   "source": [
    "### Common Use Cases for Tuples:"
   ]
  },
  {
   "cell_type": "markdown",
   "id": "aeb0ce78-d9bd-425f-b85f-7f0e7b9b5caf",
   "metadata": {},
   "source": [
    "#### Returning Multiple Values from a Function >>Functions in Python can return multiple values using tuples."
   ]
  },
  {
   "cell_type": "code",
   "execution_count": 162,
   "id": "1edb404a-aeb7-4bfe-b502-48fcd12bd87e",
   "metadata": {},
   "outputs": [
    {
     "name": "stdout",
     "output_type": "stream",
     "text": [
      "(1, 9)\n"
     ]
    }
   ],
   "source": [
    "def min_max(numbers):\n",
    "    return min(numbers), max(numbers)\n",
    "\n",
    "result = min_max([3, 1, 4, 1, 5, 9])\n",
    "print(result)  "
   ]
  },
  {
   "cell_type": "markdown",
   "id": "0931b6cd-5594-455d-88b9-23cc74f69589",
   "metadata": {},
   "source": [
    "#### Storing Heterogeneous Data: Tuples are often used to store heterogeneous data — data of different types  as a single, cohesive unit."
   ]
  },
  {
   "cell_type": "code",
   "execution_count": 163,
   "id": "ba56b459-bb87-45a2-afa7-a68e0f4c6381",
   "metadata": {},
   "outputs": [
    {
     "name": "stdout",
     "output_type": "stream",
     "text": [
      "('Alice', 30, 'Engineer')\n"
     ]
    }
   ],
   "source": [
    "person = (\"Alice\", 30, \"Engineer\")\n",
    "print(person)  "
   ]
  },
  {
   "cell_type": "markdown",
   "id": "d11cae60-ea72-4fda-80ad-3d162b395fac",
   "metadata": {},
   "source": [
    "#### Using as Keys in Dictionaries: Tuples can be used as keys in dictionaries because they are immutable."
   ]
  },
  {
   "cell_type": "code",
   "execution_count": 164,
   "id": "f18bd1e4-41d9-4f6a-8ebb-e41c869c7669",
   "metadata": {},
   "outputs": [
    {
     "name": "stdout",
     "output_type": "stream",
     "text": [
      "Point A\n"
     ]
    }
   ],
   "source": [
    "coordinates = {(1, 2): \"Point A\", (3, 4): \"Point B\"}\n",
    "print(coordinates[(1, 2)])  "
   ]
  },
  {
   "cell_type": "markdown",
   "id": "f1ee6fd9-13b5-44bb-8d3c-2bf01532ee2b",
   "metadata": {},
   "source": [
    "#### Representing Fixed Collections: Tuples are useful for representing fixed sets of data that should not change throughout the program"
   ]
  },
  {
   "cell_type": "code",
   "execution_count": 165,
   "id": "2d36fada-bd2f-4568-99f4-6efa8cd49f2a",
   "metadata": {},
   "outputs": [
    {
     "name": "stdout",
     "output_type": "stream",
     "text": [
      "January\n"
     ]
    }
   ],
   "source": [
    "months = (\"January\", \"February\", \"March\", \"April\", \"May\", \"June\", \n",
    "          \"July\", \"August\", \"September\", \"October\", \"November\", \"December\")\n",
    "print(months[0])  "
   ]
  },
  {
   "cell_type": "code",
   "execution_count": 166,
   "id": "1e6d8834-123d-4569-89e3-11362299be48",
   "metadata": {},
   "outputs": [
    {
     "ename": "TypeError",
     "evalue": "'tuple' object does not support item assignment",
     "output_type": "error",
     "traceback": [
      "\u001b[0;31m---------------------------------------------------------------------------\u001b[0m",
      "\u001b[0;31mTypeError\u001b[0m                                 Traceback (most recent call last)",
      "Cell \u001b[0;32mIn[166], line 3\u001b[0m\n\u001b[1;32m      1\u001b[0m \u001b[38;5;66;03m#use case >> tuples used as data structure where we dont wanna to modify the data\u001b[39;00m\n\u001b[1;32m      2\u001b[0m empl_id \u001b[38;5;241m=\u001b[39m(\u001b[38;5;241m1\u001b[39m,\u001b[38;5;241m2\u001b[39m,\u001b[38;5;241m34\u001b[39m,\u001b[38;5;241m4\u001b[39m)\n\u001b[0;32m----> 3\u001b[0m \u001b[43mempl_id\u001b[49m\u001b[43m[\u001b[49m\u001b[38;5;241;43m2\u001b[39;49m\u001b[43m]\u001b[49m \u001b[38;5;241m=\u001b[39m \u001b[38;5;241m23\u001b[39m\n",
      "\u001b[0;31mTypeError\u001b[0m: 'tuple' object does not support item assignment"
     ]
    }
   ],
   "source": [
    "#use case >> tuples used as data structure where we dont wanna to modify the data\n",
    "empl_id =(1,2,34,4)\n",
    "empl_id[2] = 23\n"
   ]
  },
  {
   "cell_type": "markdown",
   "id": "112f90ff-a8bc-463e-bd48-44653c9e5ff1",
   "metadata": {},
   "source": [
    "### Use Cases of Sets"
   ]
  },
  {
   "cell_type": "markdown",
   "id": "8cd18deb-1fe2-4967-b863-fd53ac55eefb",
   "metadata": {},
   "source": [
    "#Removing Duplicates: Sets can be used to remove duplicate items from a list or any iterable."
   ]
  },
  {
   "cell_type": "code",
   "execution_count": 167,
   "id": "5308e00c-2c76-4a9e-b535-41b0cec791bb",
   "metadata": {},
   "outputs": [
    {
     "data": {
      "text/plain": [
       "{1, 2, 3, 4, 5}"
      ]
     },
     "execution_count": 167,
     "metadata": {},
     "output_type": "execute_result"
    }
   ],
   "source": [
    "numbers = {1, 2, 2, 3, 4, 4, 5}   #removes all duplicates \n",
    "numbers"
   ]
  },
  {
   "cell_type": "markdown",
   "id": "0980d336-82a3-4f25-a546-56fd518a249d",
   "metadata": {},
   "source": [
    "#Membership Testing: Checking if an item is in a collection is very fast with sets"
   ]
  },
  {
   "cell_type": "code",
   "execution_count": 168,
   "id": "23e0d97e-bdb8-4532-a344-b67ae7851043",
   "metadata": {},
   "outputs": [
    {
     "name": "stdout",
     "output_type": "stream",
     "text": [
      "True\n",
      "False\n"
     ]
    }
   ],
   "source": [
    "colors = {\"red\", \"green\", \"blue\"}\n",
    "print(\"red\" in colors)  \n",
    "print(\"yellow\" in colors)"
   ]
  },
  {
   "cell_type": "markdown",
   "id": "2a51415b-83d1-401f-9882-558f330428d5",
   "metadata": {},
   "source": [
    "#Mathematical Set Operations: Sets are ideal for performing mathematical operations like union, #intersection, difference, and symmetric difference"
   ]
  },
  {
   "cell_type": "code",
   "execution_count": 178,
   "id": "cc5db714-7adf-447c-a197-1f33099a2d48",
   "metadata": {},
   "outputs": [],
   "source": [
    "a = {1, 2, 3, 4}\n",
    "b = {3, 4, 5, 6}"
   ]
  },
  {
   "cell_type": "code",
   "execution_count": 179,
   "id": "a6bc9ae6-bec5-4a7b-b7da-bd9c7f7bbbbc",
   "metadata": {},
   "outputs": [
    {
     "data": {
      "text/plain": [
       "{1, 2, 3, 4, 5, 6}"
      ]
     },
     "execution_count": 179,
     "metadata": {},
     "output_type": "execute_result"
    }
   ],
   "source": [
    "a | b    #union\n"
   ]
  },
  {
   "cell_type": "code",
   "execution_count": 180,
   "id": "0db3185d-77c7-45b6-8554-ec8eb7d55b1b",
   "metadata": {},
   "outputs": [
    {
     "data": {
      "text/plain": [
       "{3, 4}"
      ]
     },
     "execution_count": 180,
     "metadata": {},
     "output_type": "execute_result"
    }
   ],
   "source": [
    "a & b   #intersection "
   ]
  },
  {
   "cell_type": "code",
   "execution_count": 181,
   "id": "ccbf0a6d-bb53-455d-ad00-3306d9b23f71",
   "metadata": {},
   "outputs": [
    {
     "data": {
      "text/plain": [
       "{1, 2}"
      ]
     },
     "execution_count": 181,
     "metadata": {},
     "output_type": "execute_result"
    }
   ],
   "source": [
    "a - b    #difference"
   ]
  },
  {
   "cell_type": "code",
   "execution_count": 182,
   "id": "ec002ef3-7317-4295-ad3f-4e759e1bd315",
   "metadata": {},
   "outputs": [
    {
     "data": {
      "text/plain": [
       "{1, 2, 5, 6}"
      ]
     },
     "execution_count": 182,
     "metadata": {},
     "output_type": "execute_result"
    }
   ],
   "source": [
    "a ^ b    #symmetric difference"
   ]
  },
  {
   "cell_type": "markdown",
   "id": "d952360a-47f2-447f-80d1-3762fcc94426",
   "metadata": {},
   "source": [
    "#Storing Unique Elements: Whenever you need to maintain a collection of unique elements, sets are the ideal #data structure."
   ]
  },
  {
   "cell_type": "code",
   "execution_count": 183,
   "id": "0eb98908-ab4d-456b-9761-cfc22679bfd3",
   "metadata": {},
   "outputs": [
    {
     "name": "stdout",
     "output_type": "stream",
     "text": [
      "{'apple', 'orange', 'pear', 'banana'}\n"
     ]
    }
   ],
   "source": [
    "unique_items = set([\"apple\", \"orange\", \"banana\", \"apple\", \"pear\"])\n",
    "print(unique_items)  "
   ]
  },
  {
   "cell_type": "markdown",
   "id": "bb6785d1-1a3f-4a88-9091-273379c71675",
   "metadata": {},
   "source": [
    "#converts list to sets "
   ]
  },
  {
   "cell_type": "code",
   "execution_count": 184,
   "id": "1aaf571d-d01d-4f6c-b0d2-e74c12091aae",
   "metadata": {},
   "outputs": [
    {
     "data": {
      "text/plain": [
       "{1, 2, 'apple', 'mango'}"
      ]
     },
     "execution_count": 184,
     "metadata": {},
     "output_type": "execute_result"
    }
   ],
   "source": [
    "list1 = [\"apple\",\"mango\",\"apple\",1,1,2,2]   #convert list to sets\n",
    "s =set(list1)\n",
    "s"
   ]
  },
  {
   "cell_type": "code",
   "execution_count": 185,
   "id": "d1c31163-2f45-4634-8c13-09b47472123e",
   "metadata": {},
   "outputs": [
    {
     "data": {
      "text/plain": [
       "['apple', 2, 'mango', 1]"
      ]
     },
     "execution_count": 185,
     "metadata": {},
     "output_type": "execute_result"
    }
   ],
   "source": [
    "list1 =list(s)   #convert set to list\n",
    "list1"
   ]
  },
  {
   "cell_type": "code",
   "execution_count": 186,
   "id": "da00898c-9b70-4873-9a73-f108c20b62ae",
   "metadata": {},
   "outputs": [
    {
     "data": {
      "text/plain": [
       "{1, 2, 'apple', 'mango'}"
      ]
     },
     "execution_count": 186,
     "metadata": {},
     "output_type": "execute_result"
    }
   ],
   "source": [
    "s"
   ]
  },
  {
   "cell_type": "code",
   "execution_count": 187,
   "id": "45fb53ab-9ee3-4c99-9d48-c2b5af3e1efa",
   "metadata": {},
   "outputs": [
    {
     "data": {
      "text/plain": [
       "set"
      ]
     },
     "execution_count": 187,
     "metadata": {},
     "output_type": "execute_result"
    }
   ],
   "source": [
    "type(s)"
   ]
  },
  {
   "cell_type": "markdown",
   "id": "cc94d69e-f4ea-4953-aec5-5fef2d626ea8",
   "metadata": {},
   "source": [
    "# 7)Describe how to add, modify, and delete items in a dictionary with examples?"
   ]
  },
  {
   "cell_type": "markdown",
   "id": "42c4b6f3-71fd-4a24-973b-c63028633b9c",
   "metadata": {},
   "source": [
    "#dictionary >> data structure that store data as a key value pair \n",
    "#keys are unique and immutable\n",
    "#note : dictionaries are unordered >> but from python 3.7 version dictionaries retain the order of insertion\n",
    "#this means if u iterate over a dictionary,the item will be returned in the order they were added"
   ]
  },
  {
   "cell_type": "code",
   "execution_count": 188,
   "id": "5c6b6ba9-c9e7-459e-886f-abfcaf5fcfc6",
   "metadata": {},
   "outputs": [
    {
     "data": {
      "text/plain": [
       "dict"
      ]
     },
     "execution_count": 188,
     "metadata": {},
     "output_type": "execute_result"
    }
   ],
   "source": [
    "d ={}\n",
    "type(d)"
   ]
  },
  {
   "cell_type": "markdown",
   "id": "f7e14566-3c34-4800-8faa-e17ebe9fd78e",
   "metadata": {},
   "source": [
    "#### Adding Items to a Dictionary"
   ]
  },
  {
   "cell_type": "code",
   "execution_count": 190,
   "id": "f5c29ff3-1a46-4ea7-b6cd-5f7ffa3caaa9",
   "metadata": {},
   "outputs": [
    {
     "data": {
      "text/plain": [
       "{'name': 'neil', 'class': 'UKG', 'email': 'krackofficer@gmail.com', 'roll': 75}"
      ]
     },
     "execution_count": 190,
     "metadata": {},
     "output_type": "execute_result"
    }
   ],
   "source": [
    "d = {\"name\":\"neil\",\"class\":\"UKG\",\"email\":\"krackofficer@gmail.com\",\"roll\":75,}\n",
    "d"
   ]
  },
  {
   "cell_type": "code",
   "execution_count": 191,
   "id": "b5caefd2-75ad-42c2-84df-5e6278249a23",
   "metadata": {},
   "outputs": [
    {
     "data": {
      "text/plain": [
       "{'name': 'neil',\n",
       " 'class': 'UKG',\n",
       " 'email': 'krackofficer@gmail.com',\n",
       " 'roll': 75,\n",
       " 'city': 'Bareilly'}"
      ]
     },
     "execution_count": 191,
     "metadata": {},
     "output_type": "execute_result"
    }
   ],
   "source": [
    "d[\"city\"] = \"Bareilly\"      # Adding a new key-value pair\n",
    "d"
   ]
  },
  {
   "cell_type": "code",
   "execution_count": 195,
   "id": "c7e85b38-bcf1-47a5-9a36-7f07dcba7015",
   "metadata": {},
   "outputs": [
    {
     "data": {
      "text/plain": [
       "{'course': 'data analytics', 'hobby': 'coding'}"
      ]
     },
     "execution_count": 195,
     "metadata": {},
     "output_type": "execute_result"
    }
   ],
   "source": [
    "d1 = {\"course\":\"data analytics\",\"hobby\":\"coding\"}   # Adding multiple items\n",
    "d1"
   ]
  },
  {
   "cell_type": "code",
   "execution_count": 197,
   "id": "7fa8c814-b7bc-4da5-8238-5b31bcafe936",
   "metadata": {},
   "outputs": [
    {
     "data": {
      "text/plain": [
       "{'name': 'neil',\n",
       " 'class': 'UKG',\n",
       " 'email': 'krackofficer@gmail.com',\n",
       " 'roll': 75,\n",
       " 'city': 'Bareilly',\n",
       " 'course': 'data analytics',\n",
       " 'hobby': 'coding'}"
      ]
     },
     "execution_count": 197,
     "metadata": {},
     "output_type": "execute_result"
    }
   ],
   "source": [
    "d.update(d1)\n",
    "d"
   ]
  },
  {
   "cell_type": "markdown",
   "id": "ea657072-5e21-44b2-9c67-4d6da7b897c1",
   "metadata": {},
   "source": [
    "#### Modifying Items in a Dictionary"
   ]
  },
  {
   "cell_type": "markdown",
   "id": "07755f78-5ad0-4f56-a53f-39bd8a69fc0e",
   "metadata": {},
   "source": [
    "#### Modifying an existing item"
   ]
  },
  {
   "cell_type": "code",
   "execution_count": 206,
   "id": "0dadb74a-55fc-48be-a308-d521b1a7837a",
   "metadata": {},
   "outputs": [
    {
     "data": {
      "text/plain": [
       "{'name': 'neil', 'class': 'UKG', 'email': 'krackofficer@gmail.com', 'roll': 75}"
      ]
     },
     "execution_count": 206,
     "metadata": {},
     "output_type": "execute_result"
    }
   ],
   "source": [
    "d = {\"name\":\"neil\",\"class\":\"UKG\",\"email\":\"krackofficer@gmail.com\",\"roll\":75,}\n",
    "d"
   ]
  },
  {
   "cell_type": "code",
   "execution_count": 208,
   "id": "93eb49f5-3e2c-44ff-8279-c0988338394a",
   "metadata": {},
   "outputs": [
    {
     "data": {
      "text/plain": [
       "{'name': 'DEVANSH',\n",
       " 'class': 'UKG',\n",
       " 'email': 'krackofficer@gmail.com',\n",
       " 'roll': 75}"
      ]
     },
     "execution_count": 208,
     "metadata": {},
     "output_type": "execute_result"
    }
   ],
   "source": [
    "d[\"name\"] = \"DEVANSH\"\n",
    "d"
   ]
  },
  {
   "cell_type": "markdown",
   "id": "fea2e38f-fc3d-46e5-93da-01ea6aa93cf6",
   "metadata": {},
   "source": [
    "#### Modifying multiple items using update()"
   ]
  },
  {
   "cell_type": "code",
   "execution_count": 209,
   "id": "9081c44f-fbaa-4ab9-9656-11743419c8f1",
   "metadata": {},
   "outputs": [
    {
     "data": {
      "text/plain": [
       "{'bazigar': 'shahrukh', 'mela': 'amir'}"
      ]
     },
     "execution_count": 209,
     "metadata": {},
     "output_type": "execute_result"
    }
   ],
   "source": [
    "d2 = {\"bazigar\":\"shahrukh\",\"mela\":\"amir\"}\n",
    "d2"
   ]
  },
  {
   "cell_type": "code",
   "execution_count": 210,
   "id": "aacc8b35-7d43-4b82-995b-a5b2137d3f94",
   "metadata": {},
   "outputs": [],
   "source": [
    "d.update(d2)"
   ]
  },
  {
   "cell_type": "code",
   "execution_count": 211,
   "id": "ad8a8c81-f03e-49f0-ac34-30367f53175f",
   "metadata": {},
   "outputs": [
    {
     "data": {
      "text/plain": [
       "{'name': 'DEVANSH',\n",
       " 'class': 'UKG',\n",
       " 'email': 'krackofficer@gmail.com',\n",
       " 'roll': 75,\n",
       " 'bazigar': 'shahrukh',\n",
       " 'mela': 'amir'}"
      ]
     },
     "execution_count": 211,
     "metadata": {},
     "output_type": "execute_result"
    }
   ],
   "source": [
    "d"
   ]
  },
  {
   "cell_type": "markdown",
   "id": "bfc685b6-bcd1-4efe-addd-bd852c2d52da",
   "metadata": {},
   "source": [
    " #### Deleting Items from a Dictionary"
   ]
  },
  {
   "cell_type": "markdown",
   "id": "dd26d4e6-1b46-40db-94b6-e31cf4586ea7",
   "metadata": {},
   "source": [
    "####To delete items from a dictionary, you can use the del statement or the pop() method>> You can also use the popitem() method to remove the last inserted key-value pair >> or the clear() method to remove all items."
   ]
  },
  {
   "cell_type": "code",
   "execution_count": 218,
   "id": "22273a50-4e7d-44ef-b8bc-d347e5a471bd",
   "metadata": {},
   "outputs": [
    {
     "data": {
      "text/plain": [
       "{'name': 'DEVANSH',\n",
       " 'class': 'UKG',\n",
       " 'email': 'krackofficer@gmail.com',\n",
       " 'roll': 75,\n",
       " 'bazigar': 'shahrukh'}"
      ]
     },
     "execution_count": 218,
     "metadata": {},
     "output_type": "execute_result"
    }
   ],
   "source": [
    "# Using del to delete an item by key\n",
    "d\n"
   ]
  },
  {
   "cell_type": "code",
   "execution_count": 220,
   "id": "8c3e4e5f-c6fb-4b88-9264-95e053b44165",
   "metadata": {},
   "outputs": [],
   "source": [
    "del d[\"roll\"]    #deleted roll from key,value pair"
   ]
  },
  {
   "cell_type": "code",
   "execution_count": 221,
   "id": "04ac8243-d7ef-4845-985d-f27139df2a9e",
   "metadata": {},
   "outputs": [
    {
     "data": {
      "text/plain": [
       "{'name': 'DEVANSH',\n",
       " 'class': 'UKG',\n",
       " 'email': 'krackofficer@gmail.com',\n",
       " 'bazigar': 'shahrukh'}"
      ]
     },
     "execution_count": 221,
     "metadata": {},
     "output_type": "execute_result"
    }
   ],
   "source": [
    "d"
   ]
  },
  {
   "cell_type": "code",
   "execution_count": 222,
   "id": "0148ce39-2a06-4c5e-9048-beea72848048",
   "metadata": {},
   "outputs": [],
   "source": [
    "del d     # deleted the whole dictionary"
   ]
  },
  {
   "cell_type": "code",
   "execution_count": 223,
   "id": "ee1cca1e-dd50-4296-8c63-1914bd2e88a3",
   "metadata": {},
   "outputs": [
    {
     "ename": "NameError",
     "evalue": "name 'd' is not defined",
     "output_type": "error",
     "traceback": [
      "\u001b[0;31m---------------------------------------------------------------------------\u001b[0m",
      "\u001b[0;31mNameError\u001b[0m                                 Traceback (most recent call last)",
      "Cell \u001b[0;32mIn[223], line 1\u001b[0m\n\u001b[0;32m----> 1\u001b[0m \u001b[43md\u001b[49m\n",
      "\u001b[0;31mNameError\u001b[0m: name 'd' is not defined"
     ]
    }
   ],
   "source": [
    "d"
   ]
  },
  {
   "cell_type": "code",
   "execution_count": 224,
   "id": "214f4f0a-62ef-4c57-881d-e2bf282e210c",
   "metadata": {},
   "outputs": [
    {
     "data": {
      "text/plain": [
       "{'name': 'neil', 'class': 'UKG', 'email': 'krackofficer@gmail.com', 'roll': 75}"
      ]
     },
     "execution_count": 224,
     "metadata": {},
     "output_type": "execute_result"
    }
   ],
   "source": [
    "# Using pop() to remove an item and get its value\n",
    "d = {\"name\":\"neil\",\"class\":\"UKG\",\"email\":\"krackofficer@gmail.com\",\"roll\":75}\n",
    "d"
   ]
  },
  {
   "cell_type": "code",
   "execution_count": 225,
   "id": "e7bcb71b-a1f8-445a-a426-32e5b620aa84",
   "metadata": {},
   "outputs": [
    {
     "data": {
      "text/plain": [
       "{'name': 'neil', 'class': 'UKG', 'roll': 75}"
      ]
     },
     "execution_count": 225,
     "metadata": {},
     "output_type": "execute_result"
    }
   ],
   "source": [
    "d.pop(\"email\")  #to remove any key,values\n",
    "d"
   ]
  },
  {
   "cell_type": "code",
   "execution_count": 226,
   "id": "2055be77-aaa7-4789-b81b-2441f9dd5673",
   "metadata": {},
   "outputs": [
    {
     "data": {
      "text/plain": [
       "('roll', 75)"
      ]
     },
     "execution_count": 226,
     "metadata": {},
     "output_type": "execute_result"
    }
   ],
   "source": [
    "# Using popitem() to remove the last inserted item\n",
    "d.popitem()"
   ]
  },
  {
   "cell_type": "code",
   "execution_count": 227,
   "id": "e4388036-0d88-4584-8136-3474a116d1da",
   "metadata": {},
   "outputs": [
    {
     "data": {
      "text/plain": [
       "{'name': 'neil', 'class': 'UKG'}"
      ]
     },
     "execution_count": 227,
     "metadata": {},
     "output_type": "execute_result"
    }
   ],
   "source": [
    "d"
   ]
  },
  {
   "cell_type": "code",
   "execution_count": 228,
   "id": "b38f0cde-fd45-4435-966f-aa8bbc16b4d5",
   "metadata": {},
   "outputs": [],
   "source": [
    "# Using clear() to remove all items\n",
    "d.clear()"
   ]
  },
  {
   "cell_type": "code",
   "execution_count": 229,
   "id": "26d54351-4595-4bf3-ac6c-d268dbdd9b19",
   "metadata": {},
   "outputs": [
    {
     "data": {
      "text/plain": [
       "{}"
      ]
     },
     "execution_count": 229,
     "metadata": {},
     "output_type": "execute_result"
    }
   ],
   "source": [
    "d       #no element is left "
   ]
  },
  {
   "cell_type": "markdown",
   "id": "f9abf8bd-ba75-40d7-bb03-527b817704f9",
   "metadata": {},
   "source": [
    "# 8) Discuss the importance of dictionary keys being immutable and provide examples?"
   ]
  },
  {
   "cell_type": "markdown",
   "id": "a81d7f83-99a0-4244-ade5-74eefb0786a4",
   "metadata": {},
   "source": [
    "\n",
    "#### In Python, dictionary keys must be immutable. This means that the keys cannot be changed after they are #created. This immutability is crucial because dictionary keys are hashed for fast access, and mutable #objects (like lists) can change, causing their hash value to change, which would lead to inconsistent #behavior in dictionaries."
   ]
  },
  {
   "cell_type": "markdown",
   "id": "3c022273-8ee1-4430-a933-5322d0e94c9b",
   "metadata": {},
   "source": [
    "#Hashing Requirement: Dictionaries are implemented as hash tables in Python. For a key to be hashed #reliably, its hash value must remain constant during its lifetime. Mutable objects like lists or #dictionaries can change, which means their hash value can also change. If the hash of a key changes after #insertion, it would make locating the key in the dictionary impossible.\n",
    "\n",
    "#Consistency: Immutability of keys ensures consistent behavior when accessing dictionary values. If keys #were mutable, changes to the key could make it impossible to retrieve the corresponding value.\n",
    "\n",
    "#Performance: Immutable keys ensure that the dictionary can achieve its average-case constant-time #complexity (O(1)) for lookup operations. This efficiency is achieved because the hash values do not change, #allowing for quick access to stored values."
   ]
  },
  {
   "cell_type": "markdown",
   "id": "936572ad-1893-4d67-960f-abed768b591d",
   "metadata": {},
   "source": [
    "#### Examples Demonstrating the Immutability Requirement\n"
   ]
  },
  {
   "cell_type": "markdown",
   "id": "961fd374-429a-411c-bde3-71d935c3828b",
   "metadata": {},
   "source": [
    "#Example 1: Using Immutable Keys (Strings, Tuples)\n",
    "#Immutable objects like strings, numbers, and tuples can be used as dictionary keys:"
   ]
  },
  {
   "cell_type": "code",
   "execution_count": 233,
   "id": "85a307cf-e1b0-46c4-9868-6e7c312fc76d",
   "metadata": {},
   "outputs": [
    {
     "name": "stdout",
     "output_type": "stream",
     "text": [
      "Alice\n",
      "Age\n",
      "Point A\n"
     ]
    }
   ],
   "source": [
    "# Valid dictionary keys\n",
    "person = {\n",
    "    \"name\": \"Alice\",   # String key (immutable)\n",
    "    42: \"Age\",         # Integer key (immutable)\n",
    "    (1, 2): \"Point A\"  # Tuple key (immutable)\n",
    "}\n",
    "\n",
    "print(person[\"name\"])  \n",
    "print(person[42])      \n",
    "print(person[(1, 2)])  \n"
   ]
  },
  {
   "cell_type": "markdown",
   "id": "917dd06a-4a3c-4243-821e-8da9a90d1a43",
   "metadata": {},
   "source": [
    "#Example 2: Attempting to Use a Mutable Key (List)\n",
    "#If you try to use a mutable type like a list as a dictionary key, Python will raise a TypeError"
   ]
  },
  {
   "cell_type": "code",
   "execution_count": 234,
   "id": "9022f258-6f03-407b-a16f-ad13d72df08c",
   "metadata": {},
   "outputs": [
    {
     "name": "stdout",
     "output_type": "stream",
     "text": [
      "unhashable type: 'list'\n"
     ]
    }
   ],
   "source": [
    "# Invalid dictionary keys\n",
    "try:\n",
    "    invalid_dict = {\n",
    "        [1, 2, 3]: \"Invalid Key\"  # List key (mutable)\n",
    "    }\n",
    "except TypeError as e:\n",
    "    print(e)  \n"
   ]
  },
  {
   "cell_type": "markdown",
   "id": "9ac6389b-23a1-4a6b-887f-3e2421c3d3c1",
   "metadata": {},
   "source": [
    "#Example 3: Mutable Key Would Cause Inconsistency\n",
    "#If mutable keys were allowed, it would lead to inconsistent behavior. Consider the following:"
   ]
  },
  {
   "cell_type": "code",
   "execution_count": 235,
   "id": "ed8c7a6a-c310-4dda-b7d4-b451b82629f0",
   "metadata": {},
   "outputs": [
    {
     "name": "stdout",
     "output_type": "stream",
     "text": [
      "unhashable type: 'list'\n"
     ]
    }
   ],
   "source": [
    "# Hypothetical example (This will raise an error in reality)\n",
    "try:\n",
    "    # Assume a list is allowed as a key (it is not in practice)\n",
    "    mutable_key = [1, 2, 3]\n",
    "    example_dict = {mutable_key: \"Some Value\"}\n",
    "    \n",
    "    # Changing the list after insertion\n",
    "    mutable_key.append(4)\n",
    "    \n",
    "    # Attempt to access the value with the modified key\n",
    "    print(example_dict[mutable_key])  # Would raise an error or behave inconsistently\n",
    "except TypeError as e:\n",
    "    print(e)  # Output: unhashable type: 'list'\n"
   ]
  },
  {
   "cell_type": "markdown",
   "id": "5d74dd3a-105a-4f72-91fb-b632119ddcf6",
   "metadata": {},
   "source": [
    "### THANK U FOR GIVING LOVELY PROJECT!"
   ]
  },
  {
   "cell_type": "code",
   "execution_count": null,
   "id": "3b126cd1-3222-450f-bfb5-8be15af45eab",
   "metadata": {},
   "outputs": [],
   "source": []
  }
 ],
 "metadata": {
  "kernelspec": {
   "display_name": "Python 3 (ipykernel)",
   "language": "python",
   "name": "python3"
  },
  "language_info": {
   "codemirror_mode": {
    "name": "ipython",
    "version": 3
   },
   "file_extension": ".py",
   "mimetype": "text/x-python",
   "name": "python",
   "nbconvert_exporter": "python",
   "pygments_lexer": "ipython3",
   "version": "3.10.8"
  }
 },
 "nbformat": 4,
 "nbformat_minor": 5
}
